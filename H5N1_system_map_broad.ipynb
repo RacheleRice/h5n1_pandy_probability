{
  "nbformat": 4,
  "nbformat_minor": 0,
  "metadata": {
    "colab": {
      "provenance": [],
      "authorship_tag": "ABX9TyM4DbKMD9DCm+aF3QYtSMit",
      "include_colab_link": true
    },
    "kernelspec": {
      "name": "python3",
      "display_name": "Python 3"
    },
    "language_info": {
      "name": "python"
    }
  },
  "cells": [
    {
      "cell_type": "markdown",
      "metadata": {
        "id": "view-in-github",
        "colab_type": "text"
      },
      "source": [
        "<a href=\"https://colab.research.google.com/github/RacheleRice/h5n1_pandy_probability/blob/main/H5N1_system_map_broad.ipynb\" target=\"_parent\"><img src=\"https://colab.research.google.com/assets/colab-badge.svg\" alt=\"Open In Colab\"/></a>"
      ]
    },
    {
      "cell_type": "code",
      "execution_count": 3,
      "metadata": {
        "colab": {
          "base_uri": "https://localhost:8080/"
        },
        "id": "fyO-POlxhL76",
        "outputId": "49fca3e9-ff32-499b-e1bd-5a8809ad64e9"
      },
      "outputs": [
        {
          "output_type": "stream",
          "name": "stdout",
          "text": [
            "System map saved as H5N1_System_Map.png\n"
          ]
        }
      ],
      "source": [
        "from graphviz import Digraph\n",
        "\n",
        "# Create a Graphviz Digraph for the system map\n",
        "system_map = Digraph(name=\"H5N1_System_Map\", format=\"png\")\n",
        "system_map.attr(rankdir=\"LR\", size=\"20,20\")\n",
        "\n",
        "# Core Node\n",
        "system_map.node(\"H5N1 Pandemic Risk\", shape=\"ellipse\", style=\"filled\", color=\"lightblue\")\n",
        "\n",
        "# Primary Branches\n",
        "branches = [\"Virus Dynamics\", \"Environmental Factors\", \"Human Dynamics\", \"Policy and Regulation\"]\n",
        "for branch in branches:\n",
        "    system_map.node(branch, shape=\"box\", style=\"rounded,filled\", color=\"lightgrey\")\n",
        "    system_map.edge(\"H5N1 Pandemic Risk\", branch)\n",
        "\n",
        "# Virus Dynamics Sub-Branches\n",
        "virus_dynamics = [\n",
        "    \"Mutation Rate\",\n",
        "    \"Spillover Potential\",\n",
        "    \"Asymptomatic Spread\",\n",
        "    \"H2H Transmission Efficiency\"\n",
        "]\n",
        "for node in virus_dynamics:\n",
        "    system_map.node(node, shape=\"ellipse\", style=\"filled\", color=\"lightgreen\")\n",
        "    system_map.edge(\"Virus Dynamics\", node)\n",
        "\n",
        "# Environmental Factors Sub-Branches\n",
        "environmental_factors = [\n",
        "    \"Migratory Bird Paths\",\n",
        "    \"Dairy and Poultry Industry Spread\",\n",
        "    \"Cross-Species Transmission\",\n",
        "    \"Seasonal Effects\"\n",
        "]\n",
        "for node in environmental_factors:\n",
        "    system_map.node(node, shape=\"ellipse\", style=\"filled\", color=\"lightyellow\")\n",
        "    system_map.edge(\"Environmental Factors\", node)\n",
        "\n",
        "# Human Dynamics Sub-Branches\n",
        "human_dynamics = [\n",
        "    \"Holiday Travel and Gatherings\",\n",
        "    \"Healthcare Infrastructure\",\n",
        "    \"Surveillance and Testing Gaps\",\n",
        "    \"Vulnerable Populations\"\n",
        "]\n",
        "for node in human_dynamics:\n",
        "    system_map.node(node, shape=\"ellipse\", style=\"filled\", color=\"lightcoral\")\n",
        "    system_map.edge(\"Human Dynamics\", node)\n",
        "\n",
        "# Policy and Regulation Sub-Branches\n",
        "policy_regulation = [\n",
        "    \"Biosecurity Measures\",\n",
        "    \"Vaccine Availability\",\n",
        "    \"Public Health Communication\",\n",
        "    \"International Cooperation\"\n",
        "]\n",
        "for node in policy_regulation:\n",
        "    system_map.node(node, shape=\"ellipse\", style=\"filled\", color=\"lightskyblue\")\n",
        "    system_map.edge(\"Policy and Regulation\", node)\n",
        "\n",
        "# Render the system map to a file\n",
        "output_path = \"H5N1_System_Map\"\n",
        "system_map.render(output_path)\n",
        "\n",
        "print(f\"System map saved as {output_path}.png\")\n"
      ]
    }
  ]
}